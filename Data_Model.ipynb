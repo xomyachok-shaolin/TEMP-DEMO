{
 "cells": [
  {
   "cell_type": "markdown",
   "metadata": {},
   "source": [
    "Данные <a href='https://mega.nz/folder/2ToAVa7Y#ZxnFgMjMVMyo07LC1W0IaQ'>Отсюда</a>, (какая у них может быть лицензия не представляю)\n",
    "+ период 2006 - 2020, \n",
    "+ всего - 228511 записей,\n",
    "+ медианная длин поля контент ~5400 символов\n",
    "\n",
    "+ всего записей после фильтрации - 200566\n",
    "+ медианная длина поля контент ~6477.5 символов\n",
    "<br><br>\n",
    "  + Удадены статьи не на русском языке ~1005\n",
    "  + Статьи с пустым полем контент ~150\n",
    "  + Все статьи длиной меньше 1050 знаков (что примерно ~150 слов)\n",
    "  + Все записи без тегов\n",
    "<br><br>\n",
    "+ В итоге : классифицируем 50590 записей на 120 классов, отфильтрованных по популярным тэгам\n",
    "<br><br>\n",
    "Для тегирования может быть лучше произвести кластеризацию текстов\n",
    "<br><br>\n",
    "У статей на хабре ещё есть score и reading_count. Их тоже можно предсказывать."
   ]
  },
  {
   "cell_type": "code",
   "execution_count": 1,
   "metadata": {},
   "outputs": [],
   "source": [
    "import os\n",
    "import gc\n",
    "gc.enable()\n",
    "\n",
    "import sqlite3\n",
    "import pandas as pd\n",
    "import numpy as np\n",
    "import matplotlib.pyplot as plt\n",
    "import seaborn as sns\n",
    "sns.set()\n",
    "\n",
    "from collections import Counter\n",
    "\n",
    "\n",
    "import re\n",
    "import pymorphy2\n",
    "morph = pymorphy2.MorphAnalyzer()\n",
    "from tqdm import tqdm\n",
    "\n",
    "\n",
    "from sklearn.model_selection import train_test_split\n",
    "from sklearn.feature_extraction.text import TfidfVectorizer\n",
    "from sklearn.feature_extraction.text import CountVectorizer\n",
    "import joblib\n",
    "\n",
    "from tensorflow import keras\n",
    "layers = keras.layers\n",
    "models = keras.models\n"
   ]
  },
  {
   "cell_type": "code",
   "execution_count": 2,
   "metadata": {},
   "outputs": [
    {
     "name": "stderr",
     "output_type": "stream",
     "text": [
      "C:\\Users\\Paul\\Anaconda3\\lib\\site-packages\\tqdm\\std.py:658: FutureWarning: The Panel class is removed from pandas. Accessing it from the top-level namespace will also be removed in the next version\n",
      "  from pandas import Panel\n"
     ]
    },
    {
     "data": {
      "text/plain": [
       "62"
      ]
     },
     "execution_count": 2,
     "metadata": {},
     "output_type": "execute_result"
    }
   ],
   "source": [
    "tqdm.pandas()\n",
    "gc.collect()"
   ]
  },
  {
   "cell_type": "markdown",
   "metadata": {},
   "source": [
    "Reading all data"
   ]
  },
  {
   "cell_type": "code",
   "execution_count": 3,
   "metadata": {},
   "outputs": [
    {
     "name": "stdout",
     "output_type": "stream",
     "text": [
      "<class 'pandas.core.frame.DataFrame'>\n",
      "RangeIndex: 228512 entries, 0 to 228511\n",
      "Data columns (total 11 columns):\n",
      " #   Column          Non-Null Count   Dtype \n",
      "---  ------          --------------   ----- \n",
      " 0   id              228512 non-null  int64 \n",
      " 1   time_published  228512 non-null  object\n",
      " 2   author          228512 non-null  object\n",
      " 3   title           228512 non-null  object\n",
      " 4   content         228512 non-null  object\n",
      " 5   lang            228512 non-null  object\n",
      " 6   comments_count  228512 non-null  int64 \n",
      " 7   reading_count   228512 non-null  int64 \n",
      " 8   score           228512 non-null  int64 \n",
      " 9   is_tutorial     228512 non-null  int64 \n",
      " 10  tags_string     228512 non-null  object\n",
      "dtypes: int64(5), object(6)\n",
      "memory usage: 19.2+ MB\n"
     ]
    }
   ],
   "source": [
    "conn = sqlite3.connect(\"habr_articles\\\\habr.db\")\n",
    "cur = conn.cursor()\n",
    "sql = \"SELECT * FROM habr\"\n",
    "df = pd.read_sql(sql, conn)\n",
    "cur.close()\n",
    "conn.close()\n",
    "\n",
    "\n",
    "gc.collect()\n",
    "df.info()"
   ]
  },
  {
   "cell_type": "code",
   "execution_count": 4,
   "metadata": {},
   "outputs": [
    {
     "data": {
      "text/html": [
       "<div>\n",
       "<style scoped>\n",
       "    .dataframe tbody tr th:only-of-type {\n",
       "        vertical-align: middle;\n",
       "    }\n",
       "\n",
       "    .dataframe tbody tr th {\n",
       "        vertical-align: top;\n",
       "    }\n",
       "\n",
       "    .dataframe thead th {\n",
       "        text-align: right;\n",
       "    }\n",
       "</style>\n",
       "<table border=\"1\" class=\"dataframe\">\n",
       "  <thead>\n",
       "    <tr style=\"text-align: right;\">\n",
       "      <th></th>\n",
       "      <th>id</th>\n",
       "      <th>time_published</th>\n",
       "      <th>author</th>\n",
       "      <th>title</th>\n",
       "      <th>content</th>\n",
       "      <th>lang</th>\n",
       "      <th>comments_count</th>\n",
       "      <th>reading_count</th>\n",
       "      <th>score</th>\n",
       "      <th>is_tutorial</th>\n",
       "      <th>tags_string</th>\n",
       "    </tr>\n",
       "  </thead>\n",
       "  <tbody>\n",
       "    <tr>\n",
       "      <th>228507</th>\n",
       "      <td>490394</td>\n",
       "      <td>2020-02-28T16:57:33+03:00</td>\n",
       "      <td>it_man</td>\n",
       "      <td>Commodore Amiga 500+: пусть никто не уйдет оби...</td>\n",
       "      <td>Сердца всех «компьютерщиков» постсоветского пр...</td>\n",
       "      <td>ru</td>\n",
       "      <td>4</td>\n",
       "      <td>2604</td>\n",
       "      <td>9</td>\n",
       "      <td>0</td>\n",
       "      <td>amiga, amiga 500, amiga 500 plus, commodore, t...</td>\n",
       "    </tr>\n",
       "    <tr>\n",
       "      <th>228508</th>\n",
       "      <td>490398</td>\n",
       "      <td>2020-02-28T18:34:14+03:00</td>\n",
       "      <td>vad_nes</td>\n",
       "      <td>Красный Хогвартс. Офицеры, или Почему историк ...</td>\n",
       "      <td>&lt;i&gt;(Мы продолжаем цикл очерков из истории наше...</td>\n",
       "      <td>ru</td>\n",
       "      <td>8</td>\n",
       "      <td>3720</td>\n",
       "      <td>20</td>\n",
       "      <td>0</td>\n",
       "      <td>ниту мисис, нестеров, мга, люди мга, красный х...</td>\n",
       "    </tr>\n",
       "    <tr>\n",
       "      <th>228509</th>\n",
       "      <td>490400</td>\n",
       "      <td>2020-02-28T16:43:20+03:00</td>\n",
       "      <td>andrej007</td>\n",
       "      <td>Использование библиотеки OpenCV для распознава...</td>\n",
       "      <td>&lt;p&gt;В связи с все более широким распространение...</td>\n",
       "      <td>ru</td>\n",
       "      <td>0</td>\n",
       "      <td>680</td>\n",
       "      <td>5</td>\n",
       "      <td>1</td>\n",
       "      <td>OpenCV, облака точек, обработка изображений, э...</td>\n",
       "    </tr>\n",
       "    <tr>\n",
       "      <th>228510</th>\n",
       "      <td>490404</td>\n",
       "      <td>2020-02-28T17:05:49+03:00</td>\n",
       "      <td>SIMCom_RUS</td>\n",
       "      <td>Почему и как 5G изменит все: технологии, поэта...</td>\n",
       "      <td>&lt;img src=\"https://habrastorage.org/webt/zi/7n/...</td>\n",
       "      <td>ru</td>\n",
       "      <td>12</td>\n",
       "      <td>5243</td>\n",
       "      <td>6</td>\n",
       "      <td>0</td>\n",
       "      <td>5G, Интернет вещей, SIM8200G, SIM8200EA-M2, SI...</td>\n",
       "    </tr>\n",
       "    <tr>\n",
       "      <th>228511</th>\n",
       "      <td>490406</td>\n",
       "      <td>2020-02-28T17:48:41+03:00</td>\n",
       "      <td>Trend_Micro</td>\n",
       "      <td>Невыразимо привлекателен: как мы создали ханип...</td>\n",
       "      <td>&lt;img src=\"https://habrastorage.org/webt/qi/wa/...</td>\n",
       "      <td>ru</td>\n",
       "      <td>9</td>\n",
       "      <td>7505</td>\n",
       "      <td>28</td>\n",
       "      <td>0</td>\n",
       "      <td>trend micro, ханипот, honeypot, исследование, ...</td>\n",
       "    </tr>\n",
       "  </tbody>\n",
       "</table>\n",
       "</div>"
      ],
      "text/plain": [
       "            id             time_published       author  \\\n",
       "228507  490394  2020-02-28T16:57:33+03:00       it_man   \n",
       "228508  490398  2020-02-28T18:34:14+03:00      vad_nes   \n",
       "228509  490400  2020-02-28T16:43:20+03:00    andrej007   \n",
       "228510  490404  2020-02-28T17:05:49+03:00   SIMCom_RUS   \n",
       "228511  490406  2020-02-28T17:48:41+03:00  Trend_Micro   \n",
       "\n",
       "                                                    title  \\\n",
       "228507  Commodore Amiga 500+: пусть никто не уйдет оби...   \n",
       "228508  Красный Хогвартс. Офицеры, или Почему историк ...   \n",
       "228509  Использование библиотеки OpenCV для распознава...   \n",
       "228510  Почему и как 5G изменит все: технологии, поэта...   \n",
       "228511  Невыразимо привлекателен: как мы создали ханип...   \n",
       "\n",
       "                                                  content lang  \\\n",
       "228507  Сердца всех «компьютерщиков» постсоветского пр...   ru   \n",
       "228508  <i>(Мы продолжаем цикл очерков из истории наше...   ru   \n",
       "228509  <p>В связи с все более широким распространение...   ru   \n",
       "228510  <img src=\"https://habrastorage.org/webt/zi/7n/...   ru   \n",
       "228511  <img src=\"https://habrastorage.org/webt/qi/wa/...   ru   \n",
       "\n",
       "        comments_count  reading_count  score  is_tutorial  \\\n",
       "228507               4           2604      9            0   \n",
       "228508               8           3720     20            0   \n",
       "228509               0            680      5            1   \n",
       "228510              12           5243      6            0   \n",
       "228511               9           7505     28            0   \n",
       "\n",
       "                                              tags_string  \n",
       "228507  amiga, amiga 500, amiga 500 plus, commodore, t...  \n",
       "228508  ниту мисис, нестеров, мга, люди мга, красный х...  \n",
       "228509  OpenCV, облака точек, обработка изображений, э...  \n",
       "228510  5G, Интернет вещей, SIM8200G, SIM8200EA-M2, SI...  \n",
       "228511  trend micro, ханипот, honeypot, исследование, ...  "
      ]
     },
     "execution_count": 4,
     "metadata": {},
     "output_type": "execute_result"
    }
   ],
   "source": [
    "df.tail()"
   ]
  },
  {
   "cell_type": "code",
   "execution_count": 5,
   "metadata": {},
   "outputs": [],
   "source": [
    "df['time_published'] = pd.to_datetime(df.time_published)"
   ]
  },
  {
   "cell_type": "code",
   "execution_count": 6,
   "metadata": {},
   "outputs": [
    {
     "data": {
      "text/plain": [
       "(datetime.datetime(2020, 3, 1, 10, 49, 59, tzinfo=tzoffset(None, 10800)),\n",
       " datetime.datetime(2006, 1, 16, 21, 2, 59, tzinfo=tzoffset(None, 10800)))"
      ]
     },
     "execution_count": 6,
     "metadata": {},
     "output_type": "execute_result"
    }
   ],
   "source": [
    "df['time_published'].max(),df['time_published'].min()"
   ]
  },
  {
   "cell_type": "code",
   "execution_count": 7,
   "metadata": {},
   "outputs": [
    {
     "data": {
      "text/plain": [
       "ru    227507\n",
       "en      1005\n",
       "Name: lang, dtype: int64"
      ]
     },
     "execution_count": 7,
     "metadata": {},
     "output_type": "execute_result"
    }
   ],
   "source": [
    "df.lang.value_counts()"
   ]
  },
  {
   "cell_type": "code",
   "execution_count": 8,
   "metadata": {},
   "outputs": [],
   "source": [
    "df = df[df.lang=='ru']"
   ]
  },
  {
   "cell_type": "code",
   "execution_count": 9,
   "metadata": {},
   "outputs": [],
   "source": [
    "df  = df.drop(['lang','author','time_published','is_tutorial'],axis=1)"
   ]
  },
  {
   "cell_type": "code",
   "execution_count": 10,
   "metadata": {},
   "outputs": [
    {
     "data": {
      "text/plain": [
       "Text(0.5, 1.0, 'логарифм длины поля контент в символах')"
      ]
     },
     "execution_count": 10,
     "metadata": {},
     "output_type": "execute_result"
    },
    {
     "data": {
      "image/png": "[encoded data removed]",
      "text/plain": [
       "<Figure size 432x288 with 1 Axes>"
      ]
     },
     "metadata": {},
     "output_type": "display_data"
    }
   ],
   "source": [
    "ss = df.content.apply(lambda s: len(s))\n",
    "df['len'] = df.content.apply(lambda s: len(s))\n",
    "plt.hist(np.log1p(ss),bins=20);\n",
    "plt.title('логарифм длины поля контент в символах')"
   ]
  },
  {
   "cell_type": "code",
   "execution_count": 11,
   "metadata": {},
   "outputs": [
    {
     "name": "stdout",
     "output_type": "stream",
     "text": [
      "Медианная длина поля контент 5399.0\n"
     ]
    }
   ],
   "source": [
    "print(f'Медианная длина поля контент {np.median(ss)}')"
   ]
  },
  {
   "cell_type": "code",
   "execution_count": 12,
   "metadata": {},
   "outputs": [
    {
     "data": {
      "text/plain": [
       "[(6, 1960),\n",
       " (0, 150),\n",
       " (137, 110),\n",
       " (1, 75),\n",
       " (158, 61),\n",
       " (1022, 52),\n",
       " (1031, 46),\n",
       " (1034, 46),\n",
       " (965, 46),\n",
       " (1793, 45)]"
      ]
     },
     "execution_count": 12,
     "metadata": {},
     "output_type": "execute_result"
    }
   ],
   "source": [
    "#присутствуют пустые записи или записи из ~7 слов\n",
    "Counter(ss).most_common(10)"
   ]
  },
  {
   "cell_type": "code",
   "execution_count": 13,
   "metadata": {},
   "outputs": [],
   "source": [
    "#Возьмем минимум слов 150 что ~ 1050 символов\n",
    "MS = 1050\n",
    "df = df[df.len>=MS]"
   ]
  },
  {
   "cell_type": "code",
   "execution_count": 14,
   "metadata": {},
   "outputs": [
    {
     "data": {
      "text/plain": [
       "Text(0.5, 1.0, 'логарифм длины поля контент в символах')"
      ]
     },
     "execution_count": 14,
     "metadata": {},
     "output_type": "execute_result"
    },
    {
     "data": {
      "image/png": "[encoded data removed]",
      "text/plain": [
       "<Figure size 432x288 with 1 Axes>"
      ]
     },
     "metadata": {},
     "output_type": "display_data"
    }
   ],
   "source": [
    "plt.hist(np.log1p(df.len),bins=20);\n",
    "plt.title('логарифм длины поля контент в символах')"
   ]
  },
  {
   "cell_type": "code",
   "execution_count": 15,
   "metadata": {},
   "outputs": [
    {
     "name": "stdout",
     "output_type": "stream",
     "text": [
      "Медианная длина поля контент 6477.5\n",
      "Минимальная длина поля контент 1050\n"
     ]
    }
   ],
   "source": [
    "print(f'Медианная длина поля контент {np.median(df.len)}')\n",
    "print(f'Минимальная длина поля контент {np.min(df.len)}')"
   ]
  },
  {
   "cell_type": "code",
   "execution_count": 16,
   "metadata": {},
   "outputs": [
    {
     "data": {
      "text/plain": [
       "(200566, 8)"
      ]
     },
     "execution_count": 16,
     "metadata": {},
     "output_type": "execute_result"
    }
   ],
   "source": [
    "df['tags_string'].dropna(inplace=True)\n",
    "df.shape"
   ]
  },
  {
   "cell_type": "code",
   "execution_count": 17,
   "metadata": {},
   "outputs": [
    {
     "data": {
      "text/html": [
       "<div>\n",
       "<style scoped>\n",
       "    .dataframe tbody tr th:only-of-type {\n",
       "        vertical-align: middle;\n",
       "    }\n",
       "\n",
       "    .dataframe tbody tr th {\n",
       "        vertical-align: top;\n",
       "    }\n",
       "\n",
       "    .dataframe thead th {\n",
       "        text-align: right;\n",
       "    }\n",
       "</style>\n",
       "<table border=\"1\" class=\"dataframe\">\n",
       "  <thead>\n",
       "    <tr style=\"text-align: right;\">\n",
       "      <th></th>\n",
       "      <th>id</th>\n",
       "      <th>title</th>\n",
       "      <th>content</th>\n",
       "      <th>comments_count</th>\n",
       "      <th>reading_count</th>\n",
       "      <th>score</th>\n",
       "      <th>tags_string</th>\n",
       "      <th>len</th>\n",
       "    </tr>\n",
       "  </thead>\n",
       "  <tbody>\n",
       "    <tr>\n",
       "      <th>21</th>\n",
       "      <td>27</td>\n",
       "      <td>Владислав Улендеев о трафике с Яндекс.Маркет</td>\n",
       "      <td>Чтобы оживить группу, публикую ответ исполните...</td>\n",
       "      <td>41</td>\n",
       "      <td>3420</td>\n",
       "      <td>3</td>\n",
       "      <td>электронная коммерция, Владислав Улендеев, эфф...</td>\n",
       "      <td>1146</td>\n",
       "    </tr>\n",
       "    <tr>\n",
       "      <th>24</th>\n",
       "      <td>30</td>\n",
       "      <td>Добавить в избранное.</td>\n",
       "      <td>Господа с бесконечной кармой. Хотелось бы узна...</td>\n",
       "      <td>2</td>\n",
       "      <td>1648</td>\n",
       "      <td>1</td>\n",
       "      <td>избранное, статьи, favourities.</td>\n",
       "      <td>1362</td>\n",
       "    </tr>\n",
       "    <tr>\n",
       "      <th>29</th>\n",
       "      <td>36</td>\n",
       "      <td>Ответ на вопрос об очевидном</td>\n",
       "      <td>Я знал и раньше, а теперь осознал, чем группы ...</td>\n",
       "      <td>3</td>\n",
       "      <td>444</td>\n",
       "      <td>0</td>\n",
       "      <td>blog, группа, тред</td>\n",
       "      <td>1064</td>\n",
       "    </tr>\n",
       "    <tr>\n",
       "      <th>32</th>\n",
       "      <td>40</td>\n",
       "      <td>AdAge — статьи про Интернет-маркетинг (part 1)</td>\n",
       "      <td>У меня в руках два наугад отобранных номера Ad...</td>\n",
       "      <td>2</td>\n",
       "      <td>781</td>\n",
       "      <td>0</td>\n",
       "      <td>AdAge, реклама, branding, брендинг, PR, пресса...</td>\n",
       "      <td>3344</td>\n",
       "    </tr>\n",
       "    <tr>\n",
       "      <th>33</th>\n",
       "      <td>42</td>\n",
       "      <td>AdAge — статьи про Интернет-маркетинг (part 2)</td>\n",
       "      <td>Нет времени писать о каждой статье подробно, а...</td>\n",
       "      <td>0</td>\n",
       "      <td>654</td>\n",
       "      <td>0</td>\n",
       "      <td>AdAge, реклама, branding, брендинг, PR, пресса...</td>\n",
       "      <td>1806</td>\n",
       "    </tr>\n",
       "  </tbody>\n",
       "</table>\n",
       "</div>"
      ],
      "text/plain": [
       "    id                                           title  \\\n",
       "21  27    Владислав Улендеев о трафике с Яндекс.Маркет   \n",
       "24  30                           Добавить в избранное.   \n",
       "29  36                    Ответ на вопрос об очевидном   \n",
       "32  40  AdAge — статьи про Интернет-маркетинг (part 1)   \n",
       "33  42  AdAge — статьи про Интернет-маркетинг (part 2)   \n",
       "\n",
       "                                              content  comments_count  \\\n",
       "21  Чтобы оживить группу, публикую ответ исполните...              41   \n",
       "24  Господа с бесконечной кармой. Хотелось бы узна...               2   \n",
       "29  Я знал и раньше, а теперь осознал, чем группы ...               3   \n",
       "32  У меня в руках два наугад отобранных номера Ad...               2   \n",
       "33  Нет времени писать о каждой статье подробно, а...               0   \n",
       "\n",
       "    reading_count  score                                        tags_string  \\\n",
       "21           3420      3  электронная коммерция, Владислав Улендеев, эфф...   \n",
       "24           1648      1                    избранное, статьи, favourities.   \n",
       "29            444      0                                 blog, группа, тред   \n",
       "32            781      0  AdAge, реклама, branding, брендинг, PR, пресса...   \n",
       "33            654      0  AdAge, реклама, branding, брендинг, PR, пресса...   \n",
       "\n",
       "     len  \n",
       "21  1146  \n",
       "24  1362  \n",
       "29  1064  \n",
       "32  3344  \n",
       "33  1806  "
      ]
     },
     "execution_count": 17,
     "metadata": {},
     "output_type": "execute_result"
    }
   ],
   "source": [
    "df.head()"
   ]
  },
  {
   "cell_type": "markdown",
   "metadata": {},
   "source": [
    "Работа стекстом"
   ]
  },
  {
   "cell_type": "code",
   "execution_count": 21,
   "metadata": {},
   "outputs": [],
   "source": [
    "def remove_html_tags(t):\n",
    "    '''\n",
    "    removes html tags\n",
    "    '''\n",
    "    pattern = re.compile('<.*?>')\n",
    "    return re.sub(pattern, '', t)\n",
    "\n",
    "def memorize(function):\n",
    "    '''\n",
    "    wraper function for storing and \n",
    "    reusing previously obtained results\n",
    "    '''\n",
    "    memo = {}\n",
    "    def wrapper(*args):\n",
    "        if args in memo:#.keys(): same\n",
    "            return memo[args]\n",
    "        else:\n",
    "            rv = function(*args)\n",
    "            memo[args] = rv\n",
    "        return rv\n",
    "    return wrapper\n",
    "\n",
    "@memorize\n",
    "def parse_morph(w):\n",
    "    '''\n",
    "    return word in its initial form\n",
    "    #lemmatization\n",
    "    '''\n",
    "    p = morph.parse(w)[0]\n",
    "    normal_form = p.normal_form\n",
    "    return normal_form\n",
    "\n",
    "def prepare_text(t):\n",
    "    '''\n",
    "    prepares text for machine learning\n",
    "    '''\n",
    "    t = t.lower().strip()\n",
    "    # filter all non letters symbols except for the space\n",
    "    f = lambda l: l.isalpha() or l==' '\n",
    "    t  = ''.join(filter(f, t))\n",
    "    t = remove_html_tags(t)\n",
    "    t = ' '.join([parse_morph(w) for w in t.split()]).strip()\n",
    "    return t\n",
    "\n"
   ]
  },
  {
   "cell_type": "code",
   "execution_count": 22,
   "metadata": {},
   "outputs": [
    {
     "data": {
      "text/plain": [
       "13464"
      ]
     },
     "execution_count": 22,
     "metadata": {},
     "output_type": "execute_result"
    }
   ],
   "source": [
    "#part1,part2,_,_ = train_test_split(df,df,test_size=0.5,shuffle=True)\n",
    "#del df\n",
    "gc.collect()\n",
    "\n",
    "#part1['content'] = part1['content'].progress_apply(prepare_text)\n",
    "\n",
    "#part2['content'] = part2['content'].progress_apply(prepare_text)"
   ]
  },
  {
   "cell_type": "code",
   "execution_count": 21,
   "metadata": {},
   "outputs": [
    {
     "data": {
      "text/html": [
       "<div>\n",
       "<style scoped>\n",
       "    .dataframe tbody tr th:only-of-type {\n",
       "        vertical-align: middle;\n",
       "    }\n",
       "\n",
       "    .dataframe tbody tr th {\n",
       "        vertical-align: top;\n",
       "    }\n",
       "\n",
       "    .dataframe thead th {\n",
       "        text-align: right;\n",
       "    }\n",
       "</style>\n",
       "<table border=\"1\" class=\"dataframe\">\n",
       "  <thead>\n",
       "    <tr style=\"text-align: right;\">\n",
       "      <th></th>\n",
       "      <th>id</th>\n",
       "      <th>title</th>\n",
       "      <th>content</th>\n",
       "      <th>comments_count</th>\n",
       "      <th>reading_count</th>\n",
       "      <th>score</th>\n",
       "      <th>tags_string</th>\n",
       "      <th>len</th>\n",
       "    </tr>\n",
       "  </thead>\n",
       "  <tbody>\n",
       "    <tr>\n",
       "      <th>77534</th>\n",
       "      <td>129563</td>\n",
       "      <td>В Google Maps добавлен объемный «вертолетный р...</td>\n",
       "      <td>img srchttpshabrastorageorgstorageafeedaaadcef...</td>\n",
       "      <td>37</td>\n",
       "      <td>3154</td>\n",
       "      <td>69</td>\n",
       "      <td>Google, сервисы, картографирование</td>\n",
       "      <td>2035</td>\n",
       "    </tr>\n",
       "    <tr>\n",
       "      <th>71606</th>\n",
       "      <td>120100</td>\n",
       "      <td>DEVCONF 2011 — 4 июня(суббота) &amp;gt; 55 докладо...</td>\n",
       "      <td>коллега рад сообщить вы что a hrefhttpdevconfr...</td>\n",
       "      <td>26</td>\n",
       "      <td>4648</td>\n",
       "      <td>39</td>\n",
       "      <td>devconf, php, perl, python, ruby, .net, javasc...</td>\n",
       "      <td>2692</td>\n",
       "    </tr>\n",
       "  </tbody>\n",
       "</table>\n",
       "</div>"
      ],
      "text/plain": [
       "           id                                              title  \\\n",
       "77534  129563  В Google Maps добавлен объемный «вертолетный р...   \n",
       "71606  120100  DEVCONF 2011 — 4 июня(суббота) &gt; 55 докладо...   \n",
       "\n",
       "                                                 content  comments_count  \\\n",
       "77534  img srchttpshabrastorageorgstorageafeedaaadcef...              37   \n",
       "71606  коллега рад сообщить вы что a hrefhttpdevconfr...              26   \n",
       "\n",
       "       reading_count  score  \\\n",
       "77534           3154     69   \n",
       "71606           4648     39   \n",
       "\n",
       "                                             tags_string   len  \n",
       "77534                 Google, сервисы, картографирование  2035  \n",
       "71606  devconf, php, perl, python, ruby, .net, javasc...  2692  "
      ]
     },
     "execution_count": 21,
     "metadata": {},
     "output_type": "execute_result"
    }
   ],
   "source": [
    "#df = part1.append(part2)\n",
    "df = part1\n",
    "del part1\n",
    "#del part2\n",
    "df.head(2)"
   ]
  },
  {
   "cell_type": "code",
   "execution_count": 23,
   "metadata": {},
   "outputs": [
    {
     "data": {
      "text/plain": [
       "20"
      ]
     },
     "execution_count": 23,
     "metadata": {},
     "output_type": "execute_result"
    }
   ],
   "source": [
    "\n",
    "gc.collect()"
   ]
  },
  {
   "cell_type": "code",
   "execution_count": 22,
   "metadata": {},
   "outputs": [],
   "source": [
    "#df.to_csv('lower_and_lemma_habr_part1.csv',index=False)"
   ]
  },
  {
   "cell_type": "markdown",
   "metadata": {},
   "source": [
    "Reading in all  the labels"
   ]
  },
  {
   "cell_type": "code",
   "execution_count": 27,
   "metadata": {},
   "outputs": [],
   "source": [
    "T = []\n",
    "for tags_list in df.tags_string.values:\n",
    "    tags = [e.strip().lower()  for e in tags_list.split(',')]\n",
    "    T.extend(tags)"
   ]
  },
  {
   "cell_type": "markdown",
   "metadata": {},
   "source": [
    "choosing labels manually"
   ]
  },
  {
   "cell_type": "code",
   "execution_count": 3,
   "metadata": {},
   "outputs": [
    {
     "data": {
      "text/plain": [
       "\"\\nLABS = []\\nres = ''\\nwhile res!='e':\\n    for t in Counter(T).most_common():\\n        print(t)\\n        res = input()\\n        if res=='y':\\n            LABS.append(t[0].strip())\\n            print(LABS[-2:])\\n            print(len(LABS))\\n        if res=='n':\\n            pass\\n\""
      ]
     },
     "execution_count": 3,
     "metadata": {},
     "output_type": "execute_result"
    }
   ],
   "source": [
    "'''\n",
    "LABS = []\n",
    "res = ''\n",
    "while res!='e':\n",
    "    for t in Counter(T).most_common():\n",
    "        print(t)\n",
    "        res = input()\n",
    "        if res=='y':\n",
    "            LABS.append(t[0].strip())\n",
    "            print(LABS[-2:])\n",
    "            print(len(LABS))\n",
    "        if res=='n':\n",
    "            pass\n",
    "'''\n"
   ]
  },
  {
   "cell_type": "code",
   "execution_count": 33,
   "metadata": {},
   "outputs": [
    {
     "data": {
      "text/plain": [
       "300"
      ]
     },
     "execution_count": 33,
     "metadata": {},
     "output_type": "execute_result"
    }
   ],
   "source": [
    "\n"
   ]
  },
  {
   "cell_type": "code",
   "execution_count": 34,
   "metadata": {},
   "outputs": [
    {
     "data": {
      "text/plain": [
       "['labs.list']"
      ]
     },
     "execution_count": 34,
     "metadata": {},
     "output_type": "execute_result"
    }
   ],
   "source": [
    "#joblib.dump(LABS,'labs.list')"
   ]
  },
  {
   "cell_type": "code",
   "execution_count": 79,
   "metadata": {},
   "outputs": [],
   "source": [
    "# check what's in the memory"
   ]
  },
  {
   "cell_type": "code",
   "execution_count": 115,
   "metadata": {},
   "outputs": [],
   "source": [
    "df = pd.read_csv('lower_and_lemma_habr_part1.csv',usecols=['content','tags_string'])\n",
    "LABS = joblib.load('labs.list')# надо лейблы пообъединять но это не сегодян"
   ]
  },
  {
   "cell_type": "code",
   "execution_count": 116,
   "metadata": {},
   "outputs": [],
   "source": [
    "LABS = LABS[:100]"
   ]
  },
  {
   "cell_type": "code",
   "execution_count": 117,
   "metadata": {},
   "outputs": [
    {
     "data": {
      "text/html": [
       "<div>\n",
       "<style scoped>\n",
       "    .dataframe tbody tr th:only-of-type {\n",
       "        vertical-align: middle;\n",
       "    }\n",
       "\n",
       "    .dataframe tbody tr th {\n",
       "        vertical-align: top;\n",
       "    }\n",
       "\n",
       "    .dataframe thead th {\n",
       "        text-align: right;\n",
       "    }\n",
       "</style>\n",
       "<table border=\"1\" class=\"dataframe\">\n",
       "  <thead>\n",
       "    <tr style=\"text-align: right;\">\n",
       "      <th></th>\n",
       "      <th>content</th>\n",
       "      <th>tags_string</th>\n",
       "    </tr>\n",
       "  </thead>\n",
       "  <tbody>\n",
       "    <tr>\n",
       "      <th>0</th>\n",
       "      <td>img srchttpshabrastorageorgstorageafeedaaadcef...</td>\n",
       "      <td>Google, сервисы, картографирование</td>\n",
       "    </tr>\n",
       "    <tr>\n",
       "      <th>1</th>\n",
       "      <td>коллега рад сообщить вы что a hrefhttpdevconfr...</td>\n",
       "      <td>devconf, php, perl, python, ruby, .net, javasc...</td>\n",
       "    </tr>\n",
       "    <tr>\n",
       "      <th>2</th>\n",
       "      <td>blockquoteemм продолжать публикация перевод по...</td>\n",
       "      <td>Тестирование, производительность, performance,...</td>\n",
       "    </tr>\n",
       "    <tr>\n",
       "      <th>3</th>\n",
       "      <td>на проходить февраль конференция a hrefhttppgc...</td>\n",
       "      <td>tizen, sailfish, android, ios, минкомсвязи, ни...</td>\n",
       "    </tr>\n",
       "    <tr>\n",
       "      <th>4</th>\n",
       "      <td>друг мы приглашать вы апрель на российский фин...</td>\n",
       "      <td>imagine cup, конкурс программных проектов, сту...</td>\n",
       "    </tr>\n",
       "  </tbody>\n",
       "</table>\n",
       "</div>"
      ],
      "text/plain": [
       "                                             content  \\\n",
       "0  img srchttpshabrastorageorgstorageafeedaaadcef...   \n",
       "1  коллега рад сообщить вы что a hrefhttpdevconfr...   \n",
       "2  blockquoteemм продолжать публикация перевод по...   \n",
       "3  на проходить февраль конференция a hrefhttppgc...   \n",
       "4  друг мы приглашать вы апрель на российский фин...   \n",
       "\n",
       "                                         tags_string  \n",
       "0                 Google, сервисы, картографирование  \n",
       "1  devconf, php, perl, python, ruby, .net, javasc...  \n",
       "2  Тестирование, производительность, performance,...  \n",
       "3  tizen, sailfish, android, ios, минкомсвязи, ни...  \n",
       "4  imagine cup, конкурс программных проектов, сту...  "
      ]
     },
     "execution_count": 117,
     "metadata": {},
     "output_type": "execute_result"
    }
   ],
   "source": [
    "df = df.dropna()\n",
    "df.head()"
   ]
  },
  {
   "cell_type": "code",
   "execution_count": 118,
   "metadata": {},
   "outputs": [],
   "source": [
    "Y = pd.DataFrame()\n",
    "for lab in LABS[:]:\n",
    "    Y[lab] = df.tags_string.apply(lambda x: lab in x)\n",
    "    "
   ]
  },
  {
   "cell_type": "code",
   "execution_count": 119,
   "metadata": {},
   "outputs": [
    {
     "data": {
      "text/plain": [
       "(50590, 2)"
      ]
     },
     "execution_count": 119,
     "metadata": {},
     "output_type": "execute_result"
    }
   ],
   "source": [
    "df = df[Y.sum(axis=1)>0]\n",
    "Y =  Y[Y.sum(axis=1)>0]\n",
    "\n",
    "df.shape"
   ]
  },
  {
   "cell_type": "code",
   "execution_count": 120,
   "metadata": {},
   "outputs": [],
   "source": [
    "max_words = 65000\n",
    "tokenize = keras.preprocessing.text.Tokenizer(num_words=max_words,char_level=False)"
   ]
  },
  {
   "cell_type": "code",
   "execution_count": 121,
   "metadata": {},
   "outputs": [
    {
     "data": {
      "text/plain": [
       "['vectorizer.vect']"
      ]
     },
     "execution_count": 121,
     "metadata": {},
     "output_type": "execute_result"
    }
   ],
   "source": [
    "tokenize.fit_on_texts(df['content']) \n",
    "joblib.dump(tokenize,'vectorizer.vect')"
   ]
  },
  {
   "cell_type": "code",
   "execution_count": 122,
   "metadata": {
    "scrolled": true
   },
   "outputs": [],
   "source": [
    "P = 256\n",
    "def generator(df,Y,tokenizer=tokenize,P=P):\n",
    "    n_rows = df.shape[0]\n",
    "    def init():\n",
    "        return 0\n",
    "    i = init()\n",
    "    while True:\n",
    "        vals = df['content'].values[i:i+P]\n",
    "        ys = Y.values[i:i+P]\n",
    "        i+=P\n",
    "        yield tokenize.texts_to_matrix(vals),ys\n",
    "        if i>=n_rows:\n",
    "            i=init()"
   ]
  },
  {
   "cell_type": "code",
   "execution_count": 123,
   "metadata": {},
   "outputs": [],
   "source": [
    "gen = generator(df,Y)\n",
    "#next(gen)"
   ]
  },
  {
   "cell_type": "code",
   "execution_count": 124,
   "metadata": {},
   "outputs": [],
   "source": [
    "n_words=max_words\n",
    "n_classes = len(LABS)\n",
    "def define_model(n_words=n_words,n_classes = n_classes):\n",
    "    model = models.Sequential()\n",
    "    model.add(layers.Dense(512, input_shape=(n_words,)))\n",
    "    model.add(layers.Activation('relu'))\n",
    "    model.add(layers.Dense(n_classes))\n",
    "    model.add(layers.Activation('softmax'))\n",
    "    optimizer = keras.optimizers.Adam(lr=0.000007)\n",
    "    model.compile(loss='categorical_crossentropy',optimizer=optimizer,metrics=['accuracy'])\n",
    "    return model"
   ]
  },
  {
   "cell_type": "code",
   "execution_count": 125,
   "metadata": {},
   "outputs": [
    {
     "name": "stdout",
     "output_type": "stream",
     "text": [
      "WARNING:tensorflow:sample_weight modes were coerced from\n",
      "  ...\n",
      "    to  \n",
      "  ['...']\n",
      "Train for 197 steps\n",
      "Epoch 1/60\n",
      "197/197 [==============================] - 165s 837ms/step - loss: 7.6231 - accuracy: 0.0586\n",
      "Epoch 2/60\n",
      "197/197 [==============================] - 154s 781ms/step - loss: 7.2444 - accuracy: 0.0860\n",
      "Epoch 3/60\n",
      "197/197 [==============================] - 156s 791ms/step - loss: 6.9812 - accuracy: 0.1188\n",
      "Epoch 4/60\n",
      "197/197 [==============================] - 155s 786ms/step - loss: 6.7611 - accuracy: 0.1531\n",
      "Epoch 5/60\n",
      "197/197 [==============================] - 155s 785ms/step - loss: 6.5710 - accuracy: 0.1858\n",
      "Epoch 6/60\n",
      "197/197 [==============================] - 154s 784ms/step - loss: 6.4152 - accuracy: 0.2131\n",
      "Epoch 7/60\n",
      "197/197 [==============================] - 154s 784ms/step - loss: 6.2840 - accuracy: 0.2372\n",
      "Epoch 8/60\n",
      "197/197 [==============================] - 154s 784ms/step - loss: 6.1714 - accuracy: 0.2587\n",
      "Epoch 9/60\n",
      "197/197 [==============================] - 155s 786ms/step - loss: 6.0686 - accuracy: 0.2780\n",
      "Epoch 10/60\n",
      "197/197 [==============================] - 154s 782ms/step - loss: 5.9815 - accuracy: 0.2953\n",
      "Epoch 11/60\n",
      "197/197 [==============================] - 155s 785ms/step - loss: 5.9022 - accuracy: 0.3092\n",
      "Epoch 12/60\n",
      "197/197 [==============================] - 154s 783ms/step - loss: 5.8296 - accuracy: 0.3221\n",
      "Epoch 13/60\n",
      "197/197 [==============================] - 154s 780ms/step - loss: 5.7624 - accuracy: 0.3333\n",
      "Epoch 14/60\n",
      "197/197 [==============================] - 154s 779ms/step - loss: 5.6981 - accuracy: 0.3422\n",
      "Epoch 15/60\n",
      "197/197 [==============================] - 155s 786ms/step - loss: 5.6362 - accuracy: 0.3515\n",
      "Epoch 16/60\n",
      "197/197 [==============================] - 155s 785ms/step - loss: 5.5826 - accuracy: 0.3588\n",
      "Epoch 17/60\n",
      "197/197 [==============================] - 155s 786ms/step - loss: 5.5289 - accuracy: 0.3657\n",
      "Epoch 18/60\n",
      "197/197 [==============================] - 154s 782ms/step - loss: 5.4804 - accuracy: 0.3717\n",
      "Epoch 19/60\n",
      "197/197 [==============================] - 157s 797ms/step - loss: 5.4335 - accuracy: 0.3781\n",
      "Epoch 20/60\n",
      "197/197 [==============================] - 155s 789ms/step - loss: 5.3899 - accuracy: 0.3849\n",
      "Epoch 21/60\n",
      "197/197 [==============================] - 156s 791ms/step - loss: 5.3483 - accuracy: 0.3904\n",
      "Epoch 22/60\n",
      "197/197 [==============================] - 156s 791ms/step - loss: 5.3092 - accuracy: 0.3953\n",
      "Epoch 23/60\n",
      "197/197 [==============================] - 156s 790ms/step - loss: 5.2787 - accuracy: 0.3997\n",
      "Epoch 24/60\n",
      "197/197 [==============================] - 155s 786ms/step - loss: 5.2469 - accuracy: 0.4043\n",
      "Epoch 25/60\n",
      "197/197 [==============================] - 156s 790ms/step - loss: 5.2158 - accuracy: 0.4089\n",
      "Epoch 26/60\n",
      "197/197 [==============================] - 155s 788ms/step - loss: 5.1929 - accuracy: 0.4136\n",
      "Epoch 27/60\n",
      "197/197 [==============================] - 156s 791ms/step - loss: 5.1708 - accuracy: 0.4174\n",
      "Epoch 28/60\n",
      "197/197 [==============================] - 156s 791ms/step - loss: 5.1570 - accuracy: 0.4211\n",
      "Epoch 29/60\n",
      "197/197 [==============================] - 155s 785ms/step - loss: 5.1386 - accuracy: 0.4245\n",
      "Epoch 30/60\n",
      "197/197 [==============================] - 155s 788ms/step - loss: 5.1256 - accuracy: 0.4279\n",
      "Epoch 31/60\n",
      "197/197 [==============================] - 155s 788ms/step - loss: 5.1165 - accuracy: 0.4304\n",
      "Epoch 32/60\n",
      "197/197 [==============================] - 154s 782ms/step - loss: 5.1047 - accuracy: 0.4336\n",
      "Epoch 33/60\n",
      "197/197 [==============================] - 152s 772ms/step - loss: 5.0924 - accuracy: 0.4361\n",
      "Epoch 34/60\n",
      "197/197 [==============================] - 154s 783ms/step - loss: 5.0899 - accuracy: 0.4384\n",
      "Epoch 35/60\n",
      "197/197 [==============================] - 155s 784ms/step - loss: 5.0825 - accuracy: 0.4410\n",
      "Epoch 36/60\n",
      "197/197 [==============================] - 152s 773ms/step - loss: 5.0780 - accuracy: 0.4440\n",
      "Epoch 37/60\n",
      "197/197 [==============================] - 153s 776ms/step - loss: 5.0734 - accuracy: 0.4458\n",
      "Epoch 38/60\n",
      "197/197 [==============================] - 152s 774ms/step - loss: 5.0733 - accuracy: 0.4474\n",
      "Epoch 39/60\n",
      "197/197 [==============================] - 152s 772ms/step - loss: 5.0706 - accuracy: 0.4496\n",
      "Epoch 40/60\n",
      "197/197 [==============================] - 152s 772ms/step - loss: 5.0705 - accuracy: 0.4514\n",
      "Epoch 41/60\n",
      "197/197 [==============================] - 153s 776ms/step - loss: 5.0714 - accuracy: 0.4535\n",
      "Epoch 42/60\n",
      "197/197 [==============================] - 154s 783ms/step - loss: 5.0717 - accuracy: 0.4546\n",
      "Epoch 43/60\n",
      "197/197 [==============================] - 153s 778ms/step - loss: 5.0772 - accuracy: 0.4566\n",
      "Epoch 44/60\n",
      "197/197 [==============================] - 153s 779ms/step - loss: 5.0807 - accuracy: 0.4584\n",
      "Epoch 45/60\n",
      "197/197 [==============================] - 154s 783ms/step - loss: 5.0873 - accuracy: 0.4598\n",
      "Epoch 46/60\n",
      "197/197 [==============================] - 153s 778ms/step - loss: 5.0938 - accuracy: 0.4618\n",
      "Epoch 47/60\n",
      "197/197 [==============================] - 154s 784ms/step - loss: 5.1010 - accuracy: 0.4630\n",
      "Epoch 48/60\n",
      "197/197 [==============================] - 154s 782ms/step - loss: 5.1083 - accuracy: 0.4642\n",
      "Epoch 49/60\n",
      "197/197 [==============================] - 154s 783ms/step - loss: 5.1198 - accuracy: 0.4658\n",
      "Epoch 50/60\n",
      "197/197 [==============================] - 154s 783ms/step - loss: 5.1169 - accuracy: 0.4671\n",
      "Epoch 51/60\n",
      "197/197 [==============================] - 154s 782ms/step - loss: 5.1359 - accuracy: 0.4684\n",
      "Epoch 52/60\n",
      "197/197 [==============================] - 154s 783ms/step - loss: 5.1517 - accuracy: 0.4696\n",
      "Epoch 53/60\n",
      "197/197 [==============================] - 155s 786ms/step - loss: 5.1606 - accuracy: 0.4710\n",
      "Epoch 54/60\n",
      "197/197 [==============================] - 155s 787ms/step - loss: 5.1761 - accuracy: 0.4726\n",
      "Epoch 55/60\n",
      "197/197 [==============================] - 154s 779ms/step - loss: 5.1913 - accuracy: 0.4734\n",
      "Epoch 56/60\n",
      "197/197 [==============================] - 154s 782ms/step - loss: 5.2071 - accuracy: 0.4751\n",
      "Epoch 57/60\n",
      "197/197 [==============================] - 153s 779ms/step - loss: 5.2118 - accuracy: 0.4760\n",
      "Epoch 58/60\n",
      "197/197 [==============================] - 155s 786ms/step - loss: 5.2384 - accuracy: 0.4771\n",
      "Epoch 59/60\n",
      "197/197 [==============================] - 154s 781ms/step - loss: 5.2495 - accuracy: 0.4783\n",
      "Epoch 60/60\n",
      "197/197 [==============================] - 155s 786ms/step - loss: 5.2765 - accuracy: 0.4796\n"
     ]
    }
   ],
   "source": [
    "gc.collect()\n",
    "\n",
    "model = define_model()\n",
    "\n",
    "history = model.fit(gen,epochs=60,steps_per_epoch=df.shape[0]//P,verbose=1)\n",
    "\n",
    "model.save(\"model.h5\")"
   ]
  },
  {
   "cell_type": "code",
   "execution_count": 126,
   "metadata": {},
   "outputs": [
    {
     "data": {
      "image/png": "[encoded data removed]",
      "text/plain": [
       "<Figure size 432x288 with 1 Axes>"
      ]
     },
     "metadata": {},
     "output_type": "display_data"
    }
   ],
   "source": [
    "# summarize history for accuracy\n",
    "plt.plot(history.history['accuracy'])\n",
    "plt.title('model accuracy')\n",
    "plt.ylabel('accuracy')\n",
    "plt.xlabel('epoch')\n",
    "plt.show()"
   ]
  },
  {
   "cell_type": "code",
   "execution_count": 127,
   "metadata": {},
   "outputs": [
    {
     "data": {
      "image/png": "[encoded data removed]",
      "text/plain": [
       "<Figure size 432x288 with 1 Axes>"
      ]
     },
     "metadata": {},
     "output_type": "display_data"
    }
   ],
   "source": [
    "# summarize history for loss\n",
    "plt.plot(history.history['loss'])\n",
    "plt.title('model loss')\n",
    "plt.ylabel('loss')\n",
    "plt.xlabel('epoch')\n",
    "plt.show()"
   ]
  },
  {
   "cell_type": "code",
   "execution_count": 149,
   "metadata": {},
   "outputs": [],
   "source": [
    "S1 = \"\"\"\n",
    "\n",
    "Создание веб-сервиса краудсорсинговой платформы в связке с моб. приложением. User может \n",
    "добавить идею в форму на сайте или через моб. приложение. Мобильное приложение представляет\n",
    "собой локальную соц. сеть, с мессенджером. User регистируеться, получает доступ к проектным\n",
    "задачам. Реализованна возможность подписки на получение задач различных сфер. \n",
    "У задачи есть рейтинг - отображает приоритет. Тег отображает причастность к направлению. \n",
    "У каждой задачи будет коэфф. вознаграждения за лучшую идею. Идея пользователя (заполненная форма) \n",
    "имеет тег - с участием какой сферы будет реализовываться задача (IT, безопасность,\n",
    "машиностроение, менеджмент, электроника и др. ). User могут свободно общаться между собой. \n",
    "По каждому направлению (IT,..., экономика и др.)  может быть создана беседа, где будет коллективно\n",
    "обсуждаться задача. У User будет персональный рейтинг, который выставляют эксперты на общем голосовании.\n",
    "Лучшие будут приглашаться для стажировки и работы, а их идеи реализовываться.\n",
    "\n",
    "Вид моб. приложения - мессенджер. Система предполагает высокую нагрузку на сервер,\n",
    "необходимо проработать бизнес-логику всей системы, и под нее создать эффективную \n",
    "клиент- серверную архитектуру. У user есть возможность выбора проекта. \n",
    "User должен видеть активность своей идеи.\n",
    "Первоначальную проверку идеи будет провидить ИИ. \n",
    "После интеллектуального анализа ИИ, идея предоставляеться экспертам, \n",
    "они выставляют оценки по критериям ( возможность реализации, привлекательность, \n",
    "иновацционость, эффективность). Формируеться рейтинг идеи. \n",
    "Идеи храняться на сервере. \n",
    "Для коллективных проектов предусмотрены беседы до (30 чел.), каждый может предложить до 3 идей, \n",
    "с помощью голосования отбираеться 3 лучших от каждой беседы.\n",
    "\n",
    "  Система мгновенного обмена сообщениями - основа мессенджера. \n",
    "  На сервере используем связку php+mysql для логики приложения и \n",
    "  CppComet  для доставки сообщений (возможность кластеризации в \n",
    "  которой каждый сервер кластера может принимать запросы и пересылать \n",
    "  их тем серверам кластера которые надо уведомить о событии. Операции \n",
    "  вставки данных (insert и set) выполняются асинхронно, это значит что \n",
    "  вы не будете ждать пока запрос будет разослан по всем серверам кластера.). \n",
    "      APN/FCM push - сервер используем для отправки push уведомлений. \n",
    "      MySQL - для хранения истории сообщений, пользователей, ролей доступа. \n",
    "      Сообщения пользователей, запоненая форма идеи конвертируеться в JSON строку. \n",
    "      С-Битрикс - для управления мессенджером. (Модульность. Архитектура платформы \n",
    "      строится так, что отдельный логически схожий функционал выделяется в независимый модуль. \n",
    "      Т.е. ненужное можно отключить, а нужное легко добавить.)\n",
    "     Мобильный клиент на Java (плюсы ООП: параллельная разработка; гибкость; \n",
    "     одни и те же классы можно использовать много раз; код хорошо организован, \n",
    "     и его легче поддерживать.).\n",
    "    Интеллектуальный анализ текста (категоризации называется кластеризацией документов. \n",
    "    При этом система ИАТ должна сама определить множество кластеров, по которым могут быть распределены  тексты) \n",
    "\"\"\"\n",
    "S1 = prepare_text(S1)\n",
    "\n",
    "S1 = tokenize.texts_to_matrix([S1])\n",
    "\n",
    "tags = model.predict(S1)"
   ]
  },
  {
   "cell_type": "code",
   "execution_count": 150,
   "metadata": {},
   "outputs": [
    {
     "data": {
      "image/png": "[encoded data removed]",
      "text/plain": [
       "<Figure size 432x288 with 1 Axes>"
      ]
     },
     "metadata": {},
     "output_type": "display_data"
    }
   ],
   "source": [
    "plt.plot(tags.flatten());"
   ]
  },
  {
   "cell_type": "code",
   "execution_count": 151,
   "metadata": {},
   "outputs": [],
   "source": [
    "def get_n_most_tags(l=LABS,t=tags,n=8):\n",
    "    t = t.flatten().tolist()\n",
    "    s = [(l[i],t[i]) for i in range(len(t))]\n",
    "    s = sorted(s,key=lambda x: x[1])\n",
    "    return s[-n:]"
   ]
  },
  {
   "cell_type": "code",
   "execution_count": 152,
   "metadata": {},
   "outputs": [
    {
     "data": {
      "text/plain": [
       "[('javascript', 0.030000602826476097),\n",
       " ('api', 0.03489489480853081),\n",
       " ('google', 0.037411630153656006),\n",
       " ('js', 0.04556572064757347),\n",
       " ('sql', 0.04692326486110687),\n",
       " ('разработка', 0.05475849658250809),\n",
       " ('go', 0.05583510175347328),\n",
       " ('java', 0.06479950994253159)]"
      ]
     },
     "execution_count": 152,
     "metadata": {},
     "output_type": "execute_result"
    }
   ],
   "source": [
    "get_n_most_tags(l=LABS,t=tags,n=8)"
   ]
  },
  {
   "cell_type": "code",
   "execution_count": null,
   "metadata": {},
   "outputs": [],
   "source": []
  },
  {
   "cell_type": "code",
   "execution_count": 153,
   "metadata": {},
   "outputs": [],
   "source": [
    "#https://бизнесидея.рф/biznes-plan-fotostudii-s-raschetami\n",
    "S2 = \"\"\"Бизнес-план фотостудии: описание проекта Прежде всего, необходимо разобраться: что такое фотостудия? \n",
    "Это помещение с большой площадью, которое профессионально оснащено различными интерьерными зонами, что \n",
    "позволяет фотографам и их клиентам реализовывать разнообразные тематические фотосессии. В последние несколько \n",
    "лет можно наблюдать существенное развитие представленного сегмента бизнеса: люди проявляют все больше интереса \n",
    "к процессу, желают обзавестись качественными снимками. Это связывается, в том числе, и с преимуществами \n",
    "профессиональных фотосъемок. Профессиональное оборудование и оснащение. Возможность использования качественного \n",
    "оборудования, грамотно выставить свет, использовать дополнительные приборы и объекты позволяет получить \n",
    "действительно качественные и красивые снимки. Независимость от условий погоды, времени года. Важный плюс \n",
    "фотостудии – возможно заходить и сразу начинать съемку, что невозможно при съемках на природе. Кроме того, \n",
    "современное оборудование позволяет без проблем воссоздать все необходимые природные эффекты, такие как ветер, \n",
    "яркий свет и даже снег. Большое количество декора, интерьерных зон, реквизита и прочего. Все дополнительное \n",
    "оборудование – это возможность воплотить нескончаемое количество идей. В условиях фотостудии за один съемочный \n",
    "день можно сменить несколько образов. Любая фотостудия, особенно при условиях качественного оснащения ведет \n",
    "свою деятельность сразу по двум направлениям, что позволяет существенно увеличить прибыль: это реализация съемок \n",
    "с собственным фотографом и сдача зон и оборудования в аренду. В первом случае доход заведения будет больше. \n",
    "Однако вторая услуга пользуется большим спросом, поэтому отказываться от нее не следует. Помните о том, что \n",
    "если собираетесь оказывать обе обозначенные услуги, об этом потребуется указать в документации при регистрации \n",
    "компании. Деятельность любой фотостудии основана на предоставлении конечному потребителю профессиональной \n",
    "фотосъемки в интерьерах студии. Главное преимущество – это использование дополнительного оборудования и \n",
    "профессионально выставленное освещение. Студийная фотосессия предоставляет клиентам широкие возможности в плане \n",
    "творческой работы. Так, за небольшой промежуток времени человек получает большое количество профессиональных \n",
    "фотографий в нескольких образах.\n",
    "Источник: https://xn--90agcbhfc2bzb9j.xn--p1ai/biznes-plan-fotostudii-s-raschetami \"\"\"\n",
    "\n",
    "S2 = prepare_text(S2)\n",
    "\n",
    "S2 = tokenize.texts_to_matrix([S2])\n",
    "\n",
    "tags = model.predict(S2)"
   ]
  },
  {
   "cell_type": "code",
   "execution_count": 154,
   "metadata": {},
   "outputs": [
    {
     "data": {
      "image/png": "[encoded data removed]",
      "text/plain": [
       "<Figure size 432x288 with 1 Axes>"
      ]
     },
     "metadata": {},
     "output_type": "display_data"
    }
   ],
   "source": [
    "plt.plot(tags.flatten());"
   ]
  },
  {
   "cell_type": "code",
   "execution_count": 155,
   "metadata": {},
   "outputs": [
    {
     "data": {
      "text/plain": [
       "[('социальные сети', 0.025636788457632065),\n",
       " ('стартапы', 0.029025474563241005),\n",
       " ('технологии', 0.02980279177427292),\n",
       " ('go', 0.032880134880542755),\n",
       " ('дизайн', 0.03474212810397148),\n",
       " ('маркетинг', 0.0347972996532917),\n",
       " ('интернет', 0.05120157450437546),\n",
       " ('бизнес', 0.06718418002128601)]"
      ]
     },
     "execution_count": 155,
     "metadata": {},
     "output_type": "execute_result"
    }
   ],
   "source": [
    "get_n_most_tags(l=LABS,t=tags,n=8)"
   ]
  },
  {
   "cell_type": "code",
   "execution_count": null,
   "metadata": {},
   "outputs": [],
   "source": []
  },
  {
   "cell_type": "code",
   "execution_count": null,
   "metadata": {},
   "outputs": [],
   "source": []
  }
 ],
 "metadata": {
  "kernelspec": {
   "display_name": "Python 3",
   "language": "python",
   "name": "python3"
  },
  "language_info": {
   "codemirror_mode": {
    "name": "ipython",
    "version": 3
   },
   "file_extension": ".py",
   "mimetype": "text/x-python",
   "name": "python",
   "nbconvert_exporter": "python",
   "pygments_lexer": "ipython3",
   "version": "3.7.4"
  }
 },
 "nbformat": 4,
 "nbformat_minor": 4
}
